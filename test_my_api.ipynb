{
 "cells": [
  {
   "cell_type": "code",
   "execution_count": 205,
   "id": "e01b527c",
   "metadata": {},
   "outputs": [],
   "source": [
    "import json\n",
    "import pandas as pd\n",
    "import numpy as np\n",
    "\n",
    "import requests\n",
    "from flask_restx import Model\n",
    "from pydantic import BaseModel\n",
    "from sklearn.linear_model import LogisticRegression\n",
    "from sklearn.ensemble import RandomForestClassifier\n",
    "\n",
    "from sklearn.datasets import make_classification\n",
    "import matplotlib.pyplot as plt\n",
    "\n",
    "from sklearn.metrics import classification_report"
   ]
  },
  {
   "cell_type": "markdown",
   "id": "af412564",
   "metadata": {},
   "source": [
    "Доступные ручки:"
   ]
  },
  {
   "cell_type": "code",
   "execution_count": 206,
   "id": "c8a2ed2f",
   "metadata": {},
   "outputs": [],
   "source": [
    "info_endpoint = 'http://127.0.0.1:5000/test_api/ml_models/task_result?task_id={0}'\n",
    "train_endpoint = 'http://127.0.0.1:5000/test_api/ml_models/train'\n",
    "delete_endpoint = 'http://127.0.0.1:5000/test_api/ml_models/delete'\n",
    "predict_endpoint = 'http://127.0.0.1:5000/test_api/ml_models/predict'"
   ]
  },
  {
   "cell_type": "markdown",
   "id": "a4e888b3",
   "metadata": {},
   "source": [
    "Посмотрим, как работает созданное API. Для этого запустим файл `my_api.py` и покидаем в ручки запросы. Первая ручка `info_endpoint` - с информацией об обученных моделях в базе данных `MongoDB`"
   ]
  },
  {
   "cell_type": "code",
   "execution_count": 208,
   "id": "4f54515c",
   "metadata": {},
   "outputs": [
    {
     "name": "stdout",
     "output_type": "stream",
     "text": [
      "\n"
     ]
    }
   ],
   "source": [
    "r = requests.get(train_endpoint).json()\n",
    "print(requests.get(info_endpoint.format(r)).json())"
   ]
  },
  {
   "cell_type": "markdown",
   "id": "40f7d5a3",
   "metadata": {},
   "source": [
    "Создадим пару тестовых датасетов"
   ]
  },
  {
   "cell_type": "code",
   "execution_count": 215,
   "id": "44df63c9",
   "metadata": {},
   "outputs": [],
   "source": [
    "x_1, y_1 = make_classification(n_samples=400, n_features=5, n_classes=2)\n",
    "\n",
    "dataset_train_1 = pd.DataFrame(x_1[:100, :])\n",
    "dataset_train_1['target'] = y_1[:100]\n",
    "dataset_train_1 = dataset_train_1.to_json()\n",
    "\n",
    "dataset_train_2 = pd.DataFrame(x_1[100:300, :])\n",
    "dataset_train_2['target'] = y_1[100:300]\n",
    "dataset_train_2 = dataset_train_2.to_json()\n",
    "\n",
    "dataset_test = pd.DataFrame(x_1[300:, :])\n",
    "dataset_test = dataset_test.to_json()"
   ]
  },
  {
   "cell_type": "markdown",
   "id": "dda83214",
   "metadata": {},
   "source": [
    "Отправим запрос с обучением случайного леса с заданными гиперпараметрами; в ответ получаем небольшой отчет об основных метриках обучения на 5 фолдах "
   ]
  },
  {
   "cell_type": "code",
   "execution_count": 216,
   "id": "90825e56",
   "metadata": {},
   "outputs": [
    {
     "name": "stdout",
     "output_type": "stream",
     "text": [
      "15c79d19-178f-4e7f-8493-2efc94b430de\n"
     ]
    }
   ],
   "source": [
    "json_train_data = {\n",
    "    'model_name': 'rfc',\n",
    "    'model_type': 'Random Forest',\n",
    "    'hyperparams': {'n_estimators': 200, 'max_depth': 10},\n",
    "    'train_data': dataset_train_1,\n",
    "}\n",
    "\n",
    "r = requests.post(train_endpoint, json=json_train_data)\n",
    "print(r.json()['report'])"
   ]
  },
  {
   "cell_type": "code",
   "execution_count": 217,
   "id": "12d4c3d0",
   "metadata": {},
   "outputs": [
    {
     "data": {
      "text/plain": [
       "'{\"score\":{\"precision\":0.883,\"recall\":0.807,\"roc_auc\":0.913,\"f1_score\":0.839}}'"
      ]
     },
     "execution_count": 217,
     "metadata": {},
     "output_type": "execute_result"
    }
   ],
   "source": [
    "requests.get(info_endpoint.format(r.json()['report'])).json()"
   ]
  },
  {
   "cell_type": "markdown",
   "id": "7b23f96a",
   "metadata": {},
   "source": [
    "Проверим, что в списке появилась обученная модель"
   ]
  },
  {
   "cell_type": "code",
   "execution_count": 212,
   "id": "eda7916c",
   "metadata": {},
   "outputs": [
    {
     "name": "stdout",
     "output_type": "stream",
     "text": [
      "rfc\n",
      "\n"
     ]
    }
   ],
   "source": [
    "r = requests.get(train_endpoint).json()\n",
    "print(requests.get(info_endpoint.format(r)).json())"
   ]
  },
  {
   "cell_type": "markdown",
   "id": "30fb3ad5",
   "metadata": {},
   "source": [
    "Отправим теперь `dataset_train_2`, на котором переобучим созданную `rfc` модель"
   ]
  },
  {
   "cell_type": "code",
   "execution_count": 213,
   "id": "92f198c0",
   "metadata": {},
   "outputs": [
    {
     "name": "stdout",
     "output_type": "stream",
     "text": [
      "c5db05b8-70f1-45d5-bd2b-f72adb1b45a0\n"
     ]
    }
   ],
   "source": [
    "json_train_data = {\n",
    "    'model_name': 'rfc',\n",
    "    'new_data': dataset_train_2,\n",
    "}\n",
    "\n",
    "r = requests.put(train_endpoint, data=json_train_data)\n",
    "print(r.json()['report'])"
   ]
  },
  {
   "cell_type": "code",
   "execution_count": 214,
   "id": "60a18343",
   "metadata": {
    "scrolled": true
   },
   "outputs": [
    {
     "data": {
      "text/plain": [
       "'{\"score\":{\"precision\":0.935,\"recall\":0.961,\"roc_auc\":0.976,\"f1_score\":0.947}}'"
      ]
     },
     "execution_count": 214,
     "metadata": {},
     "output_type": "execute_result"
    }
   ],
   "source": [
    "requests.get(info_endpoint.format(r.json()['report'])).json()"
   ]
  },
  {
   "cell_type": "markdown",
   "id": "0935d1ae",
   "metadata": {},
   "source": [
    "Проверим, что обученная модель работает - дадим ей на вход оставшуюся часть датасета и посмотрим на ответы"
   ]
  },
  {
   "cell_type": "code",
   "execution_count": 179,
   "id": "cf1aa92c",
   "metadata": {},
   "outputs": [
    {
     "name": "stdout",
     "output_type": "stream",
     "text": [
      "6c1656aa-5eea-4aee-874e-3a905a2fd03a\n"
     ]
    }
   ],
   "source": [
    "json_pred_data = {\n",
    "    'model_name': 'rfc',\n",
    "    'predict_data': dataset_test,\n",
    "}\n",
    "\n",
    "r = requests.post(predict_endpoint, json=json_pred_data)\n",
    "print(r.json()['answers'])\n"
   ]
  },
  {
   "cell_type": "code",
   "execution_count": 180,
   "id": "e945e1be",
   "metadata": {},
   "outputs": [
    {
     "data": {
      "text/plain": [
       "[0,\n",
       " 1,\n",
       " 0,\n",
       " 0,\n",
       " 1,\n",
       " 0,\n",
       " 1,\n",
       " 1,\n",
       " 1,\n",
       " 0,\n",
       " 1,\n",
       " 1,\n",
       " 0,\n",
       " 1,\n",
       " 0,\n",
       " 0,\n",
       " 0,\n",
       " 0,\n",
       " 0,\n",
       " 1,\n",
       " 1,\n",
       " 1,\n",
       " 0,\n",
       " 1,\n",
       " 0,\n",
       " 0,\n",
       " 0,\n",
       " 0,\n",
       " 0,\n",
       " 1,\n",
       " 1,\n",
       " 0,\n",
       " 0,\n",
       " 1,\n",
       " 0,\n",
       " 0,\n",
       " 0,\n",
       " 0,\n",
       " 1,\n",
       " 0,\n",
       " 0,\n",
       " 1,\n",
       " 0,\n",
       " 0,\n",
       " 1,\n",
       " 0,\n",
       " 0,\n",
       " 1,\n",
       " 0,\n",
       " 0,\n",
       " 1,\n",
       " 1,\n",
       " 1,\n",
       " 1,\n",
       " 1,\n",
       " 0,\n",
       " 0,\n",
       " 1,\n",
       " 1,\n",
       " 1,\n",
       " 1,\n",
       " 1,\n",
       " 0,\n",
       " 1,\n",
       " 0,\n",
       " 1,\n",
       " 1,\n",
       " 0,\n",
       " 0,\n",
       " 0,\n",
       " 0,\n",
       " 1,\n",
       " 0,\n",
       " 0,\n",
       " 0,\n",
       " 0,\n",
       " 0,\n",
       " 0,\n",
       " 1,\n",
       " 1,\n",
       " 0,\n",
       " 1,\n",
       " 1,\n",
       " 0,\n",
       " 0,\n",
       " 0,\n",
       " 0,\n",
       " 1,\n",
       " 0,\n",
       " 0,\n",
       " 1,\n",
       " 0,\n",
       " 1,\n",
       " 0,\n",
       " 1,\n",
       " 1,\n",
       " 1,\n",
       " 0,\n",
       " 0,\n",
       " 1]"
      ]
     },
     "execution_count": 180,
     "metadata": {},
     "output_type": "execute_result"
    }
   ],
   "source": [
    "requests.get(info_endpoint.format(r.json()['answers'])).json()"
   ]
  },
  {
   "cell_type": "markdown",
   "id": "937d9624",
   "metadata": {},
   "source": [
    "Напоследок удалим созданную модель с помощью ручки `delete_endpoint` и выведем список обученных моделей"
   ]
  },
  {
   "cell_type": "code",
   "execution_count": 181,
   "id": "94a5a909",
   "metadata": {},
   "outputs": [
    {
     "data": {
      "text/plain": [
       "'7220cb17-e34a-438c-9c14-5993994124df'"
      ]
     },
     "execution_count": 181,
     "metadata": {},
     "output_type": "execute_result"
    }
   ],
   "source": [
    "r = requests.delete(delete_endpoint + '/' + 'rfc')\n",
    "r.json()['result']"
   ]
  },
  {
   "cell_type": "code",
   "execution_count": 182,
   "id": "dd293add",
   "metadata": {},
   "outputs": [
    {
     "name": "stdout",
     "output_type": "stream",
     "text": [
      "\n"
     ]
    }
   ],
   "source": [
    "r = requests.get(train_endpoint).json()\n",
    "print(requests.get(info_endpoint.format(r)).json())"
   ]
  },
  {
   "cell_type": "markdown",
   "id": "43218127",
   "metadata": {},
   "source": [
    "Сохраненных моделей в базе данных не осталось"
   ]
  }
 ],
 "metadata": {
  "kernelspec": {
   "display_name": "Python 3 (ipykernel)",
   "language": "python",
   "name": "python3"
  },
  "language_info": {
   "codemirror_mode": {
    "name": "ipython",
    "version": 3
   },
   "file_extension": ".py",
   "mimetype": "text/x-python",
   "name": "python",
   "nbconvert_exporter": "python",
   "pygments_lexer": "ipython3",
   "version": "3.8.10"
  }
 },
 "nbformat": 4,
 "nbformat_minor": 5
}
