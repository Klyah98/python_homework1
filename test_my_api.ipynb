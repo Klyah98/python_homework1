{
 "cells": [
  {
   "cell_type": "code",
   "execution_count": 628,
   "id": "e01b527c",
   "metadata": {},
   "outputs": [],
   "source": [
    "import json\n",
    "import pandas as pd\n",
    "import numpy as np\n",
    "\n",
    "import requests\n",
    "from flask_restx import Model\n",
    "from pydantic import BaseModel\n",
    "from sklearn.linear_model import LogisticRegression\n",
    "from sklearn.ensemble import RandomForestClassifier\n",
    "\n",
    "from sklearn.datasets import make_classification\n",
    "import matplotlib.pyplot as plt\n",
    "\n",
    "from sklearn.metrics import classification_report"
   ]
  },
  {
   "cell_type": "markdown",
   "id": "af412564",
   "metadata": {},
   "source": [
    "Доступные ручки:"
   ]
  },
  {
   "cell_type": "code",
   "execution_count": 629,
   "id": "c8a2ed2f",
   "metadata": {},
   "outputs": [],
   "source": [
    "info_endpoint = 'http://127.0.0.1:5000/test_api/ml_models/task_result?task_id={0}'\n",
    "train_endpoint = 'http://127.0.0.1:5000/test_api/ml_models/train'\n",
    "delete_endpoint = 'http://127.0.0.1:5000/test_api/ml_models/delete'\n",
    "predict_endpoint = 'http://127.0.0.1:5000/test_api/ml_models/predict'"
   ]
  },
  {
   "cell_type": "markdown",
   "id": "a4e888b3",
   "metadata": {},
   "source": [
    "Посмотрим, как работает созданное API. Для этого запустим файл `my_api.py` и покидаем в ручки запросы. Первая ручка `info_endpoint` - с информацией о доступных моделях и гиперпараметрах"
   ]
  },
  {
   "cell_type": "code",
   "execution_count": 631,
   "id": "4f54515c",
   "metadata": {},
   "outputs": [
    {
     "data": {
      "text/plain": [
       "''"
      ]
     },
     "execution_count": 631,
     "metadata": {},
     "output_type": "execute_result"
    }
   ],
   "source": [
    "r = requests.get(train_endpoint).json()\n",
    "print(requests.get(info_endpoint.format(r)).json())"
   ]
  },
  {
   "cell_type": "markdown",
   "id": "40f7d5a3",
   "metadata": {},
   "source": [
    "Создадим пару тестовых датасетов"
   ]
  },
  {
   "cell_type": "code",
   "execution_count": 632,
   "id": "44df63c9",
   "metadata": {},
   "outputs": [],
   "source": [
    "x_1, y_1 = make_classification(n_samples=400, n_features=5, n_classes=2)\n",
    "\n",
    "dataset_train_1 = pd.DataFrame(x_1[:100, :])\n",
    "dataset_train_1['target'] = y_1[:100]\n",
    "dataset_train_1 = dataset_train_1.to_json()\n",
    "\n",
    "dataset_train_2 = pd.DataFrame(x_1[100:300, :])\n",
    "dataset_train_2['target'] = y_1[100:300]\n",
    "dataset_train_2 = dataset_train_2.to_json()\n",
    "\n",
    "dataset_test = pd.DataFrame(x_1[300:, :])\n",
    "dataset_test = dataset_test.to_json()"
   ]
  },
  {
   "cell_type": "markdown",
   "id": "2f4e08b3",
   "metadata": {},
   "source": [
    "Получаем из ручки `train_endpoint` информацию об обученных моделях - их нет"
   ]
  },
  {
   "cell_type": "markdown",
   "id": "dda83214",
   "metadata": {},
   "source": [
    "Отправим запрос с обучением случайного леса с заданными гиперпараметрами; в ответ получаем небольшой отчет об основных метриках обучения на 5 фолдах "
   ]
  },
  {
   "cell_type": "code",
   "execution_count": 638,
   "id": "90825e56",
   "metadata": {},
   "outputs": [
    {
     "name": "stdout",
     "output_type": "stream",
     "text": [
      "85d38ade-de9a-44f7-9b54-1647d6c8e9c2\n"
     ]
    }
   ],
   "source": [
    "json_train_data = {\n",
    "    'model_name': 'rfc',\n",
    "    'model_type': 'Random Forest',\n",
    "#     'hyperparams': {'n_estimators': 200, 'max_depth': 10},\n",
    "    'train_data': dataset_train_1,\n",
    "}\n",
    "\n",
    "r = requests.post(train_endpoint, json=json_train_data)\n",
    "print(r.json())"
   ]
  },
  {
   "cell_type": "code",
   "execution_count": 639,
   "id": "12d4c3d0",
   "metadata": {},
   "outputs": [
    {
     "data": {
      "text/plain": [
       "'{\"score\":{\"precision\":0.915,\"recall\":0.96,\"roc_auc\":0.947,\"f1_score\":0.935}}'"
      ]
     },
     "execution_count": 639,
     "metadata": {},
     "output_type": "execute_result"
    }
   ],
   "source": [
    "requests.get(info_endpoint.format(r.json())).json()"
   ]
  },
  {
   "cell_type": "markdown",
   "id": "7b23f96a",
   "metadata": {},
   "source": [
    "Проверим, что в списке появилась обученная модель"
   ]
  },
  {
   "cell_type": "code",
   "execution_count": 654,
   "id": "eda7916c",
   "metadata": {},
   "outputs": [
    {
     "name": "stdout",
     "output_type": "stream",
     "text": [
      "rfc\n",
      "rfc\n",
      "\n"
     ]
    }
   ],
   "source": [
    "r = requests.get(train_endpoint).json()\n",
    "print(requests.get(info_endpoint.format(r)).json())"
   ]
  },
  {
   "cell_type": "markdown",
   "id": "30fb3ad5",
   "metadata": {},
   "source": [
    "Отправим теперь `dataset_train_2`, на котором переобучим созданную `rfc` модель"
   ]
  },
  {
   "cell_type": "code",
   "execution_count": 648,
   "id": "92f198c0",
   "metadata": {},
   "outputs": [
    {
     "name": "stdout",
     "output_type": "stream",
     "text": [
      "e55d6ec6-8496-4797-9405-7158ab4ea03f\n"
     ]
    }
   ],
   "source": [
    "json_train_data = {\n",
    "    'model_name': 'rfc',\n",
    "    'new_data': dataset_train_2,\n",
    "}\n",
    "\n",
    "r = requests.put(train_endpoint, data=json_train_data)\n",
    "print(r.json())"
   ]
  },
  {
   "cell_type": "code",
   "execution_count": 649,
   "id": "60a18343",
   "metadata": {
    "scrolled": true
   },
   "outputs": [
    {
     "data": {
      "text/plain": [
       "'{\"score\":{\"precision\":0.858,\"recall\":0.854,\"roc_auc\":0.925,\"f1_score\":0.85}}'"
      ]
     },
     "execution_count": 649,
     "metadata": {},
     "output_type": "execute_result"
    }
   ],
   "source": [
    "requests.get(info_endpoint.format(r.json())).json()"
   ]
  },
  {
   "cell_type": "markdown",
   "id": "0935d1ae",
   "metadata": {},
   "source": [
    "Проверим, что обученная модель работает - дадим ей на вход оставшуюся часть датасета и посмотрим на `classification_report`"
   ]
  },
  {
   "cell_type": "code",
   "execution_count": 650,
   "id": "cf1aa92c",
   "metadata": {},
   "outputs": [
    {
     "name": "stdout",
     "output_type": "stream",
     "text": [
      "de8a54d8-4d81-4a01-8a82-2696ec44851e\n"
     ]
    }
   ],
   "source": [
    "json_pred_data = {\n",
    "    'model_name': 'rfc',\n",
    "    'predict_data': dataset_test,\n",
    "}\n",
    "\n",
    "r = requests.post(predict_endpoint, json=json_pred_data)\n",
    "print(r.json())\n",
    "# y_pred = r.json()\n",
    "# print(classification_report(y_1[300:], y_pred))"
   ]
  },
  {
   "cell_type": "code",
   "execution_count": 651,
   "id": "e945e1be",
   "metadata": {},
   "outputs": [
    {
     "data": {
      "text/plain": [
       "[1,\n",
       " 0,\n",
       " 1,\n",
       " 1,\n",
       " 0,\n",
       " 1,\n",
       " 0,\n",
       " 1,\n",
       " 1,\n",
       " 1,\n",
       " 0,\n",
       " 0,\n",
       " 0,\n",
       " 0,\n",
       " 1,\n",
       " 0,\n",
       " 0,\n",
       " 0,\n",
       " 0,\n",
       " 0,\n",
       " 1,\n",
       " 1,\n",
       " 0,\n",
       " 1,\n",
       " 0,\n",
       " 1,\n",
       " 1,\n",
       " 0,\n",
       " 1,\n",
       " 0,\n",
       " 0,\n",
       " 1,\n",
       " 0,\n",
       " 0,\n",
       " 0,\n",
       " 1,\n",
       " 1,\n",
       " 0,\n",
       " 0,\n",
       " 0,\n",
       " 0,\n",
       " 1,\n",
       " 1,\n",
       " 1,\n",
       " 0,\n",
       " 0,\n",
       " 1,\n",
       " 0,\n",
       " 0,\n",
       " 1,\n",
       " 0,\n",
       " 1,\n",
       " 0,\n",
       " 1,\n",
       " 1,\n",
       " 0,\n",
       " 1,\n",
       " 0,\n",
       " 1,\n",
       " 0,\n",
       " 0,\n",
       " 0,\n",
       " 1,\n",
       " 1,\n",
       " 1,\n",
       " 0,\n",
       " 1,\n",
       " 0,\n",
       " 1,\n",
       " 0,\n",
       " 0,\n",
       " 0,\n",
       " 1,\n",
       " 1,\n",
       " 1,\n",
       " 0,\n",
       " 0,\n",
       " 1,\n",
       " 1,\n",
       " 0,\n",
       " 1,\n",
       " 0,\n",
       " 1,\n",
       " 0,\n",
       " 1,\n",
       " 0,\n",
       " 1,\n",
       " 0,\n",
       " 0,\n",
       " 1,\n",
       " 1,\n",
       " 1,\n",
       " 1,\n",
       " 1,\n",
       " 0,\n",
       " 1,\n",
       " 1,\n",
       " 0,\n",
       " 1,\n",
       " 1]"
      ]
     },
     "execution_count": 651,
     "metadata": {},
     "output_type": "execute_result"
    }
   ],
   "source": [
    "requests.get(info_endpoint.format(r.json())).json()"
   ]
  },
  {
   "cell_type": "markdown",
   "id": "937d9624",
   "metadata": {},
   "source": [
    "Напоследок удалим созданную модель с помощью ручки `delete_endpoint` и выведем список обученных моделей"
   ]
  },
  {
   "cell_type": "code",
   "execution_count": 652,
   "id": "94a5a909",
   "metadata": {},
   "outputs": [
    {
     "data": {
      "text/plain": [
       "'536876bf-4ff9-4207-ab57-a59e10b7bfd2'"
      ]
     },
     "execution_count": 652,
     "metadata": {},
     "output_type": "execute_result"
    }
   ],
   "source": [
    "r = requests.delete(delete_endpoint + '/' + 'rfc')\n",
    "r.json()"
   ]
  },
  {
   "cell_type": "code",
   "execution_count": 563,
   "id": "dd293add",
   "metadata": {},
   "outputs": [
    {
     "data": {
      "text/plain": [
       "'PENDING'"
      ]
     },
     "execution_count": 563,
     "metadata": {},
     "output_type": "execute_result"
    }
   ],
   "source": [
    "requests.get(f'http://127.0.0.1:5000/test_api/ml_models/train?task_id=ea2e805b-e3d1-453f-bd7b-17d94693dfa8 rfc').json()\n"
   ]
  },
  {
   "cell_type": "markdown",
   "id": "5e483c01",
   "metadata": {},
   "source": [
    "# Тестирование mongo хранилища"
   ]
  },
  {
   "cell_type": "code",
   "execution_count": 44,
   "id": "1ba16888",
   "metadata": {},
   "outputs": [
    {
     "name": "stdout",
     "output_type": "stream",
     "text": [
      "Collecting pymongo\n",
      "  Downloading pymongo-4.0-cp39-cp39-macosx_10_9_x86_64.whl (351 kB)\n",
      "     |████████████████████████████████| 351 kB 1.6 MB/s            \n",
      "\u001b[?25hInstalling collected packages: pymongo\n",
      "Successfully installed pymongo-4.0\n"
     ]
    }
   ],
   "source": [
    "!pip install pymongo"
   ]
  },
  {
   "cell_type": "code",
   "execution_count": 393,
   "id": "8966e123",
   "metadata": {},
   "outputs": [],
   "source": [
    "from pymongo import MongoClient"
   ]
  },
  {
   "cell_type": "code",
   "execution_count": 394,
   "id": "9d918af6",
   "metadata": {},
   "outputs": [],
   "source": [
    "client = MongoClient('localhost', 27017)"
   ]
  },
  {
   "cell_type": "code",
   "execution_count": 395,
   "id": "159247d2",
   "metadata": {},
   "outputs": [
    {
     "data": {
      "text/plain": [
       "['admin', 'api_database', 'config', 'local']"
      ]
     },
     "execution_count": 395,
     "metadata": {},
     "output_type": "execute_result"
    }
   ],
   "source": [
    "client.list_database_names()"
   ]
  },
  {
   "cell_type": "code",
   "execution_count": 396,
   "id": "b36998a1",
   "metadata": {},
   "outputs": [],
   "source": [
    "db = client['test_databse']"
   ]
  },
  {
   "cell_type": "code",
   "execution_count": 397,
   "id": "d7dcea62",
   "metadata": {},
   "outputs": [],
   "source": [
    "collection = db['test_collection']"
   ]
  },
  {
   "cell_type": "code",
   "execution_count": 398,
   "id": "cbf0a1da",
   "metadata": {},
   "outputs": [],
   "source": [
    "test_1 = {'user1': 'password1', 'user2': 'password2'}\n",
    "# test_2 = {'user3': {'password3': 'abracadabra'}, 'user4': {'password4': 'keklol'}}\n",
    "test_2 = {'user1': 'password2', 'user2': 'password2'}"
   ]
  },
  {
   "cell_type": "code",
   "execution_count": 399,
   "id": "de45fde6",
   "metadata": {},
   "outputs": [
    {
     "data": {
      "text/plain": [
       "<pymongo.results.InsertOneResult at 0x7fe08e67c140>"
      ]
     },
     "execution_count": 399,
     "metadata": {},
     "output_type": "execute_result"
    }
   ],
   "source": [
    "collection.insert_one(test_1)\n",
    "collection.insert_one(test_2)\n",
    "# collection.update_one({'user1': 'password1'}, {'$set': {'user1': 'password123'}})"
   ]
  },
  {
   "cell_type": "code",
   "execution_count": 389,
   "id": "91d90b9c",
   "metadata": {},
   "outputs": [
    {
     "data": {
      "text/plain": [
       "{'_id': ObjectId('61ae7f2f14f40384aa6509ec'),\n",
       " 'user1': 'password123',\n",
       " 'user2': 'password2'}"
      ]
     },
     "execution_count": 389,
     "metadata": {},
     "output_type": "execute_result"
    }
   ],
   "source": [
    "collection.find_one({'user3': {'password3': 'abracadabra'}})\n",
    "collection.find_one({'user2': 'password2'})"
   ]
  },
  {
   "cell_type": "code",
   "execution_count": 153,
   "id": "ac980e91",
   "metadata": {},
   "outputs": [
    {
     "data": {
      "text/plain": [
       "<pymongo.results.DeleteResult at 0x7fe08cce8d00>"
      ]
     },
     "execution_count": 153,
     "metadata": {},
     "output_type": "execute_result"
    }
   ],
   "source": [
    "collection.delete_one({'user2': 'password2'})"
   ]
  },
  {
   "cell_type": "markdown",
   "id": "b0598ee2",
   "metadata": {},
   "source": [
    "# Тестирование объектного хранения в монге"
   ]
  },
  {
   "cell_type": "code",
   "execution_count": 280,
   "id": "68126b5d",
   "metadata": {},
   "outputs": [],
   "source": [
    "import pickle\n",
    "\n",
    "from sklearn.datasets import make_classification\n",
    "from sklearn.linear_model import LogisticRegression\n",
    "from sklearn.ensemble import RandomForestClassifier"
   ]
  },
  {
   "cell_type": "code",
   "execution_count": 281,
   "id": "f4950e41",
   "metadata": {},
   "outputs": [
    {
     "data": {
      "text/plain": [
       "RandomForestClassifier()"
      ]
     },
     "execution_count": 281,
     "metadata": {},
     "output_type": "execute_result"
    }
   ],
   "source": [
    "model = RandomForestClassifier()\n",
    "\n",
    "X, y = make_classification(n_samples=400, n_features=5, n_classes=2)\n",
    "X_train, y_train = X[:300], y[:300]\n",
    "X_test, y_test = X[300:], y[300:]\n",
    "\n",
    "model.fit(X_train, y_train)"
   ]
  },
  {
   "cell_type": "code",
   "execution_count": 283,
   "id": "471e9020",
   "metadata": {},
   "outputs": [
    {
     "data": {
      "text/plain": [
       "<pymongo.results.InsertOneResult at 0x7fe08e39ed80>"
      ]
     },
     "execution_count": 283,
     "metadata": {},
     "output_type": "execute_result"
    }
   ],
   "source": [
    "collection.insert_one({'model_name': 'logreg_1', 'model': pickle.dumps(model)})"
   ]
  },
  {
   "cell_type": "code",
   "execution_count": 284,
   "id": "92ca72e4",
   "metadata": {},
   "outputs": [],
   "source": [
    "output = collection.find_one({'model_name': 'logreg_1'})"
   ]
  },
  {
   "cell_type": "code",
   "execution_count": 142,
   "id": "500dba7d",
   "metadata": {},
   "outputs": [
    {
     "data": {
      "text/plain": [
       "LogisticRegression()"
      ]
     },
     "execution_count": 142,
     "metadata": {},
     "output_type": "execute_result"
    }
   ],
   "source": [
    "pickle.loads(output['model'])"
   ]
  },
  {
   "cell_type": "code",
   "execution_count": 287,
   "id": "87c358d8",
   "metadata": {},
   "outputs": [],
   "source": [
    "import pickle"
   ]
  },
  {
   "cell_type": "code",
   "execution_count": 288,
   "id": "e7d576bb",
   "metadata": {},
   "outputs": [
    {
     "data": {
      "text/plain": [
       "RandomForestClassifier()"
      ]
     },
     "execution_count": 288,
     "metadata": {},
     "output_type": "execute_result"
    }
   ],
   "source": [
    "pickle.loads(output['model'])"
   ]
  },
  {
   "cell_type": "code",
   "execution_count": 417,
   "id": "b63203ae",
   "metadata": {},
   "outputs": [],
   "source": [
    "import pickle\n",
    "from pymongo import MongoClient\n",
    "from pymongo.errors import DuplicateKeyError\n",
    "\n",
    "class MongoDBClient:\n",
    "\n",
    "    def __init__(self, host, port):\n",
    "        self.client = MongoClient(host, port)\n",
    "        db = self.client['api_database']\n",
    "        self.collection = db['models']\n",
    "\n",
    "    def create(self, model_name: str, model):\n",
    "        obj = {\n",
    "            'model_name': model_name,\n",
    "            'model': pickle.dumps(model),\n",
    "        }\n",
    "        try:\n",
    "            self.collection.insert_one(obj)\n",
    "            return True\n",
    "        except DuplicateKeyError:\n",
    "            return False\n",
    "\n",
    "    def read(self, model_name: str):\n",
    "        result = self.collection.find_one({'model_name': model_name})\n",
    "        return result\n",
    "\n",
    "    def update(self, model_name: str, model):\n",
    "        filter_old_obj = {'model_name': model_name}\n",
    "        new_obj = {'model': pickle.dumps(model)}\n",
    "        print(new_obj)\n",
    "        print({'$set': new_obj})\n",
    "        self.collection.update_one(filter_old_obj, {'$set': new_obj})\n",
    "\n",
    "    def delete(self, model_name: str):\n",
    "        self.collection.delete_one({'model_name': model_name})"
   ]
  },
  {
   "cell_type": "code",
   "execution_count": 418,
   "id": "4a454503",
   "metadata": {},
   "outputs": [],
   "source": [
    "mdb = MongoDBClient('localhost', 27017)"
   ]
  },
  {
   "cell_type": "code",
   "execution_count": 419,
   "id": "104f9079",
   "metadata": {},
   "outputs": [
    {
     "data": {
      "text/plain": [
       "True"
      ]
     },
     "execution_count": 419,
     "metadata": {},
     "output_type": "execute_result"
    }
   ],
   "source": [
    "mdb.create('model_1', LogisticRegression())"
   ]
  },
  {
   "cell_type": "code",
   "execution_count": 422,
   "id": "b1c6a9a9",
   "metadata": {},
   "outputs": [],
   "source": [
    "r = mdb.read('model_1')"
   ]
  },
  {
   "cell_type": "code",
   "execution_count": 424,
   "id": "67c0f02b",
   "metadata": {},
   "outputs": [
    {
     "data": {
      "text/plain": [
       "LogisticRegression()"
      ]
     },
     "execution_count": 424,
     "metadata": {},
     "output_type": "execute_result"
    }
   ],
   "source": [
    "pickle.loads(r['model'])"
   ]
  },
  {
   "cell_type": "code",
   "execution_count": 425,
   "id": "a22b7fe1",
   "metadata": {},
   "outputs": [
    {
     "data": {
      "text/plain": [
       "b'\\x80\\x04\\x959\\x01\\x00\\x00\\x00\\x00\\x00\\x00\\x8c\\x1esklearn.linear_model._logistic\\x94\\x8c\\x12LogisticRegression\\x94\\x93\\x94)\\x81\\x94}\\x94(\\x8c\\x07penalty\\x94\\x8c\\x02l2\\x94\\x8c\\x04dual\\x94\\x89\\x8c\\x03tol\\x94G?\\x1a6\\xe2\\xeb\\x1cC-\\x8c\\x01C\\x94G?\\xf0\\x00\\x00\\x00\\x00\\x00\\x00\\x8c\\rfit_intercept\\x94\\x88\\x8c\\x11intercept_scaling\\x94K\\x01\\x8c\\x0cclass_weight\\x94N\\x8c\\x0crandom_state\\x94N\\x8c\\x06solver\\x94\\x8c\\x05lbfgs\\x94\\x8c\\x08max_iter\\x94Kd\\x8c\\x0bmulti_class\\x94\\x8c\\x04auto\\x94\\x8c\\x07verbose\\x94K\\x00\\x8c\\nwarm_start\\x94\\x89\\x8c\\x06n_jobs\\x94N\\x8c\\x08l1_ratio\\x94N\\x8c\\x10_sklearn_version\\x94\\x8c\\x051.0.1\\x94ub.'"
      ]
     },
     "execution_count": 425,
     "metadata": {},
     "output_type": "execute_result"
    }
   ],
   "source": [
    "r['model']"
   ]
  },
  {
   "cell_type": "code",
   "execution_count": 436,
   "id": "2e7ded45",
   "metadata": {},
   "outputs": [
    {
     "ename": "TypeError",
     "evalue": "unsupported operand type(s) for +: 'int' and 'str'",
     "output_type": "error",
     "traceback": [
      "\u001b[0;31m---------------------------------------------------------------------------\u001b[0m",
      "\u001b[0;31mTypeError\u001b[0m                                 Traceback (most recent call last)",
      "\u001b[0;32m/var/folders/zm/yhfqk5cd5yb42f704bzt3cym0000gn/T/ipykernel_3528/1266615502.py\u001b[0m in \u001b[0;36m<module>\u001b[0;34m\u001b[0m\n\u001b[0;32m----> 1\u001b[0;31m \u001b[0mpickle\u001b[0m\u001b[0;34m.\u001b[0m\u001b[0mdumps\u001b[0m\u001b[0;34m(\u001b[0m\u001b[0;36m1\u001b[0m \u001b[0;34m+\u001b[0m \u001b[0;34m's'\u001b[0m\u001b[0;34m)\u001b[0m\u001b[0;34m\u001b[0m\u001b[0;34m\u001b[0m\u001b[0m\n\u001b[0m",
      "\u001b[0;31mTypeError\u001b[0m: unsupported operand type(s) for +: 'int' and 'str'"
     ]
    }
   ],
   "source": [
    "pickle.dumps(1 + 's')"
   ]
  },
  {
   "cell_type": "code",
   "execution_count": 489,
   "id": "276f52bf",
   "metadata": {},
   "outputs": [
    {
     "ename": "UnpicklingError",
     "evalue": "unpickling stack underflow",
     "output_type": "error",
     "traceback": [
      "\u001b[0;31m---------------------------------------------------------------------------\u001b[0m",
      "\u001b[0;31mUnpicklingError\u001b[0m                           Traceback (most recent call last)",
      "\u001b[0;32m/var/folders/zm/yhfqk5cd5yb42f704bzt3cym0000gn/T/ipykernel_3528/3354639767.py\u001b[0m in \u001b[0;36m<module>\u001b[0;34m\u001b[0m\n\u001b[0;32m----> 1\u001b[0;31m \u001b[0mpickle\u001b[0m\u001b[0;34m.\u001b[0m\u001b[0mloads\u001b[0m\u001b[0;34m(\u001b[0m\u001b[0;34mb'\\x80\\x04.'\u001b[0m\u001b[0;34m)\u001b[0m\u001b[0;34m\u001b[0m\u001b[0;34m\u001b[0m\u001b[0m\n\u001b[0m",
      "\u001b[0;31mUnpicklingError\u001b[0m: unpickling stack underflow"
     ]
    }
   ],
   "source": [
    "pickle.loads(b'\\x80\\x04.')"
   ]
  },
  {
   "cell_type": "code",
   "execution_count": 672,
   "id": "d308123e",
   "metadata": {},
   "outputs": [
    {
     "data": {
      "text/plain": [
       "['сбермаркет']"
      ]
     },
     "execution_count": 672,
     "metadata": {},
     "output_type": "execute_result"
    }
   ],
   "source": [
    "import re\n",
    "s = 'Курьер в сбeрмaркет'\n",
    "s1 = translate(s, TranslateDirection.eng_rus)\n",
    "re.findall(r'(sber.?market|сбер.?маркет)', s1, re.I)"
   ]
  },
  {
   "cell_type": "code",
   "execution_count": 668,
   "id": "1985a9c6",
   "metadata": {},
   "outputs": [],
   "source": [
    "from enum import IntEnum\n",
    "\n",
    "class TranslateDirection(IntEnum):\n",
    "    eng_rus = 0\n",
    "    rus_eng = 1\n",
    "\n",
    "\n",
    "def translate(text_string: str, direction: TranslateDirection) -> str:\n",
    "    \"\"\"\n",
    "    заменить похожие по написанию буквы\n",
    "    \"\"\"\n",
    "    eng_chars = [ord(char) for char in 'EeTYyOoPpAaHKkXxCcBbM']\n",
    "    rus_chars = [ord(char) for char in 'ЕеТУуОоРрАаНКкХхСсВьМ']\n",
    "    tables = {\n",
    "        TranslateDirection.eng_rus: dict(zip(eng_chars, rus_chars)),\n",
    "        TranslateDirection.rus_eng: dict(zip(rus_chars, eng_chars)),\n",
    "    }\n",
    "    return text_string.translate(tables.get(direction, {}))"
   ]
  },
  {
   "cell_type": "code",
   "execution_count": null,
   "id": "653be07a",
   "metadata": {},
   "outputs": [],
   "source": [
    "translate()"
   ]
  }
 ],
 "metadata": {
  "kernelspec": {
   "display_name": "Python 3 (ipykernel)",
   "language": "python",
   "name": "python3"
  },
  "language_info": {
   "codemirror_mode": {
    "name": "ipython",
    "version": 3
   },
   "file_extension": ".py",
   "mimetype": "text/x-python",
   "name": "python",
   "nbconvert_exporter": "python",
   "pygments_lexer": "ipython3",
   "version": "3.9.7"
  }
 },
 "nbformat": 4,
 "nbformat_minor": 5
}
