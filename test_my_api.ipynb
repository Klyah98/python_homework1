{
 "cells": [
  {
   "cell_type": "code",
   "execution_count": 8,
   "id": "e01b527c",
   "metadata": {},
   "outputs": [],
   "source": [
    "import json\n",
    "import pandas as pd\n",
    "import numpy as np\n",
    "\n",
    "import requests\n",
    "from flask_restx import Model\n",
    "from pydantic import BaseModel\n",
    "from sklearn.linear_model import LogisticRegression\n",
    "from sklearn.ensemble import RandomForestClassifier\n",
    "\n",
    "from sklearn.datasets import make_classification\n",
    "import matplotlib.pyplot as plt\n",
    "\n",
    "from sklearn.metrics import classification_report"
   ]
  },
  {
   "cell_type": "markdown",
   "id": "af412564",
   "metadata": {},
   "source": [
    "Доступные ручки:"
   ]
  },
  {
   "cell_type": "code",
   "execution_count": 9,
   "id": "c8a2ed2f",
   "metadata": {},
   "outputs": [],
   "source": [
    "info_endpoint = 'http://127.0.0.1:5000/test_api/ml_models'\n",
    "train_endpoint = 'http://127.0.0.1:5000/test_api/ml_models/train'\n",
    "delete_endpoint = 'http://127.0.0.1:5000/test_api/ml_models/delete'\n",
    "predict_endpoint = 'http://127.0.0.1:5000/test_api/ml_models/predict'"
   ]
  },
  {
   "cell_type": "markdown",
   "id": "a4e888b3",
   "metadata": {},
   "source": [
    "Посмотрим, как работает созданное API. Для этого запустим файл `my_api.py` и покидаем в ручки запросы. Первая ручка `info_endpoint` - с информацией о доступных моделях и гиперпараметрах"
   ]
  },
  {
   "cell_type": "code",
   "execution_count": 10,
   "id": "4f54515c",
   "metadata": {},
   "outputs": [
    {
     "name": "stdout",
     "output_type": "stream",
     "text": [
      "here is a list of available models:\n",
      " - Logistic Regression, allowed hyperparameters: {'C': 'float (>0)'};\n",
      " - Random Forest, allowed hyperparameters: {'n_estimators': 'int (>0)', 'max_depth': 'int (>0)'};\n"
     ]
    }
   ],
   "source": [
    "print(requests.get('http://127.0.0.1:5000/test_api/ml_models').json())"
   ]
  },
  {
   "cell_type": "markdown",
   "id": "40f7d5a3",
   "metadata": {},
   "source": [
    "Создадим пару тестовых датасетов"
   ]
  },
  {
   "cell_type": "code",
   "execution_count": 11,
   "id": "44df63c9",
   "metadata": {},
   "outputs": [],
   "source": [
    "x_1, y_1 = make_classification(n_samples=400, n_features=5, n_classes=2)\n",
    "\n",
    "dataset_train_1 = pd.DataFrame(x_1[:100, :])\n",
    "dataset_train_1['target'] = y_1[:100]\n",
    "dataset_train_1 = dataset_train_1.to_json()\n",
    "\n",
    "dataset_train_2 = pd.DataFrame(x_1[100:300, :])\n",
    "dataset_train_2['target'] = y_1[100:300]\n",
    "dataset_train_2 = dataset_train_2.to_json()\n",
    "\n",
    "dataset_test = pd.DataFrame(x_1[300:, :])\n",
    "dataset_test = dataset_test.to_json()"
   ]
  },
  {
   "cell_type": "markdown",
   "id": "2f4e08b3",
   "metadata": {},
   "source": [
    "Получаем из ручки `train_endpoint` информацию об обученных моделях - их нет"
   ]
  },
  {
   "cell_type": "code",
   "execution_count": 12,
   "id": "12d4c3d0",
   "metadata": {},
   "outputs": [
    {
     "data": {
      "text/plain": [
       "{}"
      ]
     },
     "execution_count": 12,
     "metadata": {},
     "output_type": "execute_result"
    }
   ],
   "source": [
    "requests.get(train_endpoint).json()"
   ]
  },
  {
   "cell_type": "markdown",
   "id": "dda83214",
   "metadata": {},
   "source": [
    "Отправим запрос с обучением случайного леса с заданными гиперпараметрами; в ответ получаем небольшой отчет об основных метриках обучения на 5 фолдах "
   ]
  },
  {
   "cell_type": "code",
   "execution_count": 21,
   "id": "90825e56",
   "metadata": {},
   "outputs": [
    {
     "name": "stdout",
     "output_type": "stream",
     "text": [
      "{\"score\":{\"precision\":0.936,\"recall\":0.933,\"roc_auc\":0.983,\"f1_score\":0.93}}\n"
     ]
    }
   ],
   "source": [
    "json_train_data = {\n",
    "    'model_name': 'rfc',\n",
    "    'model_type': 'Random Forest',\n",
    "    'hyperparams': {'n_estimators': 200, 'max_depth': 10},\n",
    "    'train_data': dataset_train_1,\n",
    "}\n",
    "\n",
    "r = requests.post(train_endpoint, json=json_train_data)\n",
    "print(r.json())"
   ]
  },
  {
   "cell_type": "markdown",
   "id": "7b23f96a",
   "metadata": {},
   "source": [
    "Проверим, что в списке появилась обученная модель"
   ]
  },
  {
   "cell_type": "code",
   "execution_count": 22,
   "id": "eda7916c",
   "metadata": {},
   "outputs": [
    {
     "data": {
      "text/plain": [
       "{'rfc': 'RandomForestClassifier(max_depth=10, n_estimators=200)'}"
      ]
     },
     "execution_count": 22,
     "metadata": {},
     "output_type": "execute_result"
    }
   ],
   "source": [
    "requests.get(train_endpoint).json()"
   ]
  },
  {
   "cell_type": "markdown",
   "id": "30fb3ad5",
   "metadata": {},
   "source": [
    "Отправим теперь `dataset_train_2`, на котором переобучим созданную `rfc` модель"
   ]
  },
  {
   "cell_type": "code",
   "execution_count": 24,
   "id": "92f198c0",
   "metadata": {},
   "outputs": [
    {
     "name": "stdout",
     "output_type": "stream",
     "text": [
      "{\"score\":{\"precision\":0.964,\"recall\":0.94,\"roc_auc\":0.997,\"f1_score\":0.95}}\n"
     ]
    }
   ],
   "source": [
    "json_train_data = {\n",
    "    'model_name': 'rfc',\n",
    "    'new_data': dataset_train_2,\n",
    "}\n",
    "\n",
    "r = requests.put(train_endpoint, data=json_train_data)\n",
    "print(r.json())"
   ]
  },
  {
   "cell_type": "markdown",
   "id": "0935d1ae",
   "metadata": {},
   "source": [
    "Проверим, что обученная модель работает - дадим ей на вход оставшуюся часть датасета и посмотрим на `classification_report`"
   ]
  },
  {
   "cell_type": "code",
   "execution_count": 30,
   "id": "cf1aa92c",
   "metadata": {},
   "outputs": [
    {
     "name": "stdout",
     "output_type": "stream",
     "text": [
      "              precision    recall  f1-score   support\n",
      "\n",
      "           0       0.96      0.96      0.96        46\n",
      "           1       0.96      0.96      0.96        54\n",
      "\n",
      "    accuracy                           0.96       100\n",
      "   macro avg       0.96      0.96      0.96       100\n",
      "weighted avg       0.96      0.96      0.96       100\n",
      "\n"
     ]
    }
   ],
   "source": [
    "json_pred_data = {\n",
    "    'model_name': 'rfc',\n",
    "    'predict_data': dataset_test,\n",
    "}\n",
    "\n",
    "r = requests.post(predict_endpoint, json=json_pred_data)\n",
    "y_pred = r.json()\n",
    "print(classification_report(y_1[300:], y_pred))"
   ]
  },
  {
   "cell_type": "markdown",
   "id": "937d9624",
   "metadata": {},
   "source": [
    "Напоследок удалим созданную модель с помощью ручки `delete_endpoint` и выведем список обученных моделей"
   ]
  },
  {
   "cell_type": "code",
   "execution_count": 32,
   "id": "94a5a909",
   "metadata": {},
   "outputs": [
    {
     "data": {
      "text/plain": [
       "{}"
      ]
     },
     "execution_count": 32,
     "metadata": {},
     "output_type": "execute_result"
    }
   ],
   "source": [
    "r = requests.delete(delete_endpoint + '/' + 'rfc')\n",
    "requests.get(train_endpoint).json()"
   ]
  }
 ],
 "metadata": {
  "kernelspec": {
   "display_name": "Python 3 (ipykernel)",
   "language": "python",
   "name": "python3"
  },
  "language_info": {
   "codemirror_mode": {
    "name": "ipython",
    "version": 3
   },
   "file_extension": ".py",
   "mimetype": "text/x-python",
   "name": "python",
   "nbconvert_exporter": "python",
   "pygments_lexer": "ipython3",
   "version": "3.9.7"
  }
 },
 "nbformat": 4,
 "nbformat_minor": 5
}
